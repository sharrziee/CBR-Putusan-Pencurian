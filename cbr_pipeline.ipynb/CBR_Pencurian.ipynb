{
  "nbformat": 4,
  "nbformat_minor": 0,
  "metadata": {
    "colab": {
      "provenance": []
    },
    "kernelspec": {
      "name": "python3",
      "display_name": "Python 3"
    },
    "language_info": {
      "name": "python"
    }
  },
  "cells": [
    {
      "cell_type": "markdown",
      "source": [
        "Nama: Kirouch Alqornie Gymnastiar\n",
        "\n",
        "Kelas: Penalaran Komputer B\n",
        "\n",
        "NIM: 202210370311189\n",
        "\n",
        "CASE-BASED REASONING: CBR-PENCURIAN PN SURABAYA 2024"
      ],
      "metadata": {
        "id": "C-qk3Xv7GEQY"
      }
    },
    {
      "cell_type": "markdown",
      "source": [
        "Instalasi Library yang dibutuhkan"
      ],
      "metadata": {
        "id": "pTKo8kSLF7nh"
      }
    },
    {
      "source": [
        "!pip install pdfminer.six"
      ],
      "cell_type": "code",
      "metadata": {
        "colab": {
          "base_uri": "https://localhost:8080/"
        },
        "id": "_LzjmCjpCcny",
        "outputId": "fbdb393d-6864-49f2-b70e-f7a57ebaae55"
      },
      "execution_count": 6,
      "outputs": [
        {
          "output_type": "stream",
          "name": "stdout",
          "text": [
            "Requirement already satisfied: pdfminer.six in /usr/local/lib/python3.11/dist-packages (20250506)\n",
            "Requirement already satisfied: charset-normalizer>=2.0.0 in /usr/local/lib/python3.11/dist-packages (from pdfminer.six) (3.4.2)\n",
            "Requirement already satisfied: cryptography>=36.0.0 in /usr/local/lib/python3.11/dist-packages (from pdfminer.six) (43.0.3)\n",
            "Requirement already satisfied: cffi>=1.12 in /usr/local/lib/python3.11/dist-packages (from cryptography>=36.0.0->pdfminer.six) (1.17.1)\n",
            "Requirement already satisfied: pycparser in /usr/local/lib/python3.11/dist-packages (from cffi>=1.12->cryptography>=36.0.0->pdfminer.six) (2.22)\n"
          ]
        }
      ]
    },
    {
      "cell_type": "markdown",
      "source": [
        "Pembuatan Folder"
      ],
      "metadata": {
        "id": "FnT1EHXeGVt4"
      }
    },
    {
      "cell_type": "code",
      "source": [
        "# CASE-BASED REASONING: CBR-PENCURIAN PN SURABAYA 2024\n",
        "\n",
        "# ============================================\n",
        "# 📁 Setup Folder Otomatis\n",
        "# ============================================\n",
        "\n",
        "import os\n",
        "import re\n",
        "import pandas as pd\n",
        "from pdfminer.high_level import extract_text\n",
        "\n",
        "# Buat struktur folder otomatis\n",
        "base_dir = \"/content/CBR-Pencurian\"\n",
        "raw_dir = os.path.join(base_dir, \"data/raw\")\n",
        "processed_dir = os.path.join(base_dir, \"data/processed\")\n",
        "os.makedirs(raw_dir, exist_ok=True)\n",
        "os.makedirs(processed_dir, exist_ok=True)"
      ],
      "metadata": {
        "id": "siNe5f8aCR9D"
      },
      "execution_count": 7,
      "outputs": []
    },
    {
      "cell_type": "markdown",
      "source": [
        "Ekstraksi Data dari 30 surat keputusan"
      ],
      "metadata": {
        "id": "x_cLo48KGvc4"
      }
    },
    {
      "cell_type": "code",
      "execution_count": 8,
      "metadata": {
        "colab": {
          "base_uri": "https://localhost:8080/"
        },
        "id": "jOi7dWjW7KVe",
        "outputId": "3b470598-aeae-4d1d-80da-7288783ae57f"
      },
      "outputs": [
        {
          "output_type": "stream",
          "name": "stdout",
          "text": [
            "Processing: putusan_2024_pid.b_2024_pn_sby_20250624120906.pdf\n",
            "Processing: putusan_1919_pid.b_2024_pn_sby_20250624185322.pdf\n",
            "Processing: putusan_2038_pid.b_2024_pn_sby_20250624150026.pdf\n",
            "Processing: putusan_1851_pid.b_2024_pn_sby_20250624120653.pdf\n",
            "Processing: putusan_2217_pid.b_2024_pn_sby_20250624150026.pdf\n",
            "Processing: putusan_2099_pid.b_2024_pn_sby_20250624150341.pdf\n",
            "Processing: putusan_2224_pid.b_2024_pn_sby_20250624150126.pdf\n",
            "Processing: putusan_1981_pid.b_2024_pn_sby_20250624145626.pdf\n",
            "Processing: putusan_1896_pid.b_2024_pn_sby_20250624150320.pdf\n",
            "Processing: putusan_2199_pid.b_2024_pn_sby_20250624145851.pdf\n",
            "Processing: putusan_2038_pid.b_2024_pn_sby_20250624150419.pdf\n",
            "Processing: putusan_2217_pid.b_2024_pn_sby_20250624150830.pdf\n",
            "Processing: putusan_2004_pid.b_2024_pn_sby_20250624120530.pdf\n",
            "Processing: putusan_1847_pid.b_2024_pn_sby_20250624145912.pdf\n",
            "Processing: putusan_1942_pid.b_2024_pn_sby_20250624150336.pdf\n",
            "Processing: putusan_1989_pid.b_2024_pn_sby_20250624150407.pdf\n",
            "Processing: putusan_2143_pid.b_2024_pn_sby_20250624145907.pdf\n",
            "Processing: putusan_1944_pid.b_2024_pn_sby_20250624120905.pdf\n",
            "Processing: putusan_2045_pid.b_2024_pn_sby_20250624145941.pdf\n",
            "Processing: putusan_2024_pid.b_2024_pn_sby_20250624120854.pdf\n",
            "Processing: putusan_2019_pid.b_2024_pn_sby_20250624145945.pdf\n",
            "Processing: putusan_1987_pid.b_2024_pn_sby_20250624145629.pdf\n",
            "Processing: putusan_2083_pid.b_2024_pn_sby_20250624150348.pdf\n",
            "Processing: putusan_2018_pid.b_2024_pn_sby_20250624120851.pdf\n",
            "Processing: putusan_1942_pid.b_2024_pn_sby_20250624145949.pdf\n",
            "Processing: putusan_1928_pid.b_2024_pn_sby_20250624120105.pdf\n",
            "Processing: putusan_2145_pid.b_2024_pn_sby_20250624120912.pdf\n",
            "Processing: putusan_1919_pid.b_2024_pn_sby_20250624185428.pdf\n",
            "Processing: putusan_1845_pid.b_2024_pn_sby_20250624150325.pdf\n",
            "Processing: putusan_2079_pid.b_2024_pn_sby_20250624120220.pdf\n",
            "Processing: putusan_1940_pid.b_2024_pn_sby_20250624120452.pdf\n",
            "✅ Dataset kasus putusan pencurian (regex amar_putusan final + ketentuan hukuman) selesai → disimpan di /data/processed/cases_extracted.csv\n"
          ]
        }
      ],
      "source": [
        "# CASE-BASED REASONING: CBR-PENCURIAN PN SURABAYA 2024 (Regex Perbaikan Lebih Lanjut + Perbaikan Amar Putusan)\n",
        "# ============================================\n",
        "# 📁 Tahap 1: Ekstraksi PDF → CSV Dataset Kasus Lama (Regex Amar Putusan Final Perbaikan dengan Ketentuan Hukuman)\n",
        "# ============================================\n",
        "\n",
        "import os\n",
        "import re\n",
        "import pandas as pd\n",
        "from pdfminer.high_level import extract_text\n",
        "from sklearn.feature_extraction.text import TfidfVectorizer\n",
        "from sklearn.metrics.pairwise import cosine_similarity\n",
        "from sklearn.metrics import precision_score, recall_score, f1_score\n",
        "\n",
        "# Buat struktur folder otomatis\n",
        "base_dir = \"/content/CBR-Pencurian\"\n",
        "raw_dir = os.path.join(base_dir, \"data/raw\")\n",
        "processed_dir = os.path.join(base_dir, \"data/processed\")\n",
        "# os.makedirs(raw_dir, exist_ok=True) # These directories are already created in the previous cell\n",
        "# os.makedirs(processed_dir, exist_ok=True) # These directories are already created in the previous cell\n",
        "\n",
        "documents = [f for f in os.listdir(raw_dir) if f.endswith(\".pdf\")]\n",
        "\n",
        "cases = []\n",
        "\n",
        "def extract_amar_putusan(text):\n",
        "    \"\"\"\n",
        "    Ekstraksi amar putusan yang memuat hukuman (pidana) dengan lebih akurat.\n",
        "    Fokus pada kalimat yang mengandung 'Menjatuhkan pidana' dan mencantumkan durasi hukuman.\n",
        "    \"\"\"\n",
        "    patterns = [\n",
        "        # Contoh: Menjatuhkan pidana ... selama 2 (dua) tahun dan 6 (enam) bulan\n",
        "        r\"Menjatuhkan pidana.*?selama\\s*([\\w\\s\\(\\)]+(?:tahun|bulan|hari))(?:\\s+dan\\s+([\\w\\s\\(\\)]+(?:tahun|bulan|hari)))?\",\n",
        "\n",
        "        # Contoh: Menjatuhkan pidana penjara 6 bulan\n",
        "        r\"Menjatuhkan pidana.*?(?:penjara|kurungan)?\\s*([\\w\\s\\(\\)]+(?:tahun|bulan|hari))\",\n",
        "\n",
        "        # Cadangan: pidana selama 1 tahun\n",
        "        r\"pidana.*?selama\\s*([\\w\\s\\(\\)]+(?:tahun|bulan|hari))\",\n",
        "\n",
        "        # Minimal: 1 tahun, 6 bulan, dll\n",
        "        r\"(\\d+)\\s*(tahun|bulan|hari)\"\n",
        "    ]\n",
        "\n",
        "    for pat in patterns:\n",
        "        match = re.search(pat, text, re.I)\n",
        "        if match:\n",
        "            if match.lastindex == 2 and match.group(2):\n",
        "                return f\"{match.group(1).strip()} dan {match.group(2).strip()}\"\n",
        "            return match.group(1).strip()\n",
        "\n",
        "    return \"-\"\n",
        "\n",
        "\n",
        "\n",
        "def extract_case_metadata(pdf_file):\n",
        "    text = extract_text(pdf_file)\n",
        "\n",
        "    no_perkara = re.search(r\"Nomor\\s*[:\\.-]?\\s*([\\w\\-/\\.]+)\", text, re.I)\n",
        "    no_perkara = no_perkara.group(1).strip() if no_perkara else \"-\"\n",
        "\n",
        "    pihak = re.findall(r\"Nama lengkap\\s*[:\\.-]?\\s*(.*?)\\s+Tempat lahir\", text, re.I)\n",
        "    if not pihak:\n",
        "        pihak = re.findall(r\"atas nama\\s*(.*?)\\s*,?\\s*Terdakwa\", text, re.I)\n",
        "    if not pihak:\n",
        "        pihak = re.findall(r\"Terdakwa\\s*:\\s*(.*?)\\s*\\n\", text, re.I)\n",
        "    pihak = \"; \".join(pihak) if pihak else \"-\"\n",
        "\n",
        "    tanggal = re.search(r\"tanggal\\s*[:\\.-]?\\s*(\\d{1,2}\\s+\\w+\\s+\\d{4})\", text, re.I)\n",
        "    if not tanggal:\n",
        "        tanggal = re.search(r\"diputuskan pada hari.*?\\s*(\\d{1,2}\\s+\\w+\\s+\\d{4})\", text, re.I)\n",
        "    if not tanggal:\n",
        "        tanggal = re.search(r\"(\\d{4})\", text)\n",
        "    tanggal = tanggal.group(1).strip() if tanggal else \"-\"\n",
        "\n",
        "    pasal = re.search(r\"Pasal\\s+([\\dA-Za-z\\.\\(\\)\\-\\s]+)\\s+(KUHP|UU|Undang-Undang)\", text)\n",
        "    if not pasal:\n",
        "        pasal = re.search(r\"melanggar\\s+(Pasal.*?)\\s+(KUHP|UU|Undang-Undang)\", text, re.I)\n",
        "    if not pasal:\n",
        "        pasal = re.search(r\"primair\\s*(Pasal.*?)\\s*(KUHP|UU|Undang-Undang)\", text, re.I)\n",
        "    pasal = pasal.group(1).strip() + \" \" + pasal.group(2) if pasal else \"-\"\n",
        "\n",
        "    # 👉 Gunakan fungsi baru untuk cari amar_putusan\n",
        "    amar_putusan = extract_amar_putusan(text)\n",
        "\n",
        "    ringkasan_match = re.search(r\"(Menimbang|Bahwa).*?([A-Z].{100,500})\", text, re.I | re.S)\n",
        "    ringkasan_fakta = ringkasan_match.group(2).strip() if ringkasan_match else text[:500].strip()\n",
        "\n",
        "    return {\n",
        "        \"no_perkara\": no_perkara,\n",
        "        \"tanggal\": tanggal,\n",
        "        \"terdakwa\": pihak,\n",
        "        \"pasal\": pasal,\n",
        "        \"amar_putusan\": amar_putusan,\n",
        "        \"ringkasan_fakta\": ringkasan_fakta,\n",
        "        \"full_text\": text[:1000]\n",
        "    }\n",
        "\n",
        "\n",
        "for file in documents:\n",
        "    file_path = os.path.join(raw_dir, file)\n",
        "    print(\"Processing:\", file)\n",
        "    case = extract_case_metadata(file_path)\n",
        "    cases.append(case)\n",
        "\n",
        "# Simpan hasil ke CSV\n",
        "df = pd.DataFrame(cases)\n",
        "df.to_csv(os.path.join(processed_dir, \"cases_extracted.csv\"), index=False)\n",
        "print(\"✅ Dataset kasus putusan pencurian (regex amar_putusan final + ketentuan hukuman) selesai → disimpan di /data/processed/cases_extracted.csv\")"
      ]
    },
    {
      "cell_type": "markdown",
      "source": [
        "Representasi TF-IDF dan Retrieval"
      ],
      "metadata": {
        "id": "Rc219hRRG17-"
      }
    },
    {
      "cell_type": "code",
      "source": [
        "# ============================================\n",
        "# 📁 Tahap 2: Representasi TF-IDF & Retrieval Kasus Mirip\n",
        "# ============================================\n",
        "\n",
        "import pandas as pd\n",
        "from sklearn.feature_extraction.text import TfidfVectorizer\n",
        "from sklearn.metrics.pairwise import cosine_similarity\n",
        "import os\n",
        "\n",
        "# Load the dataframe from the processed data directory\n",
        "base_dir = \"/content/CBR-Pencurian\"\n",
        "processed_dir = os.path.join(base_dir, \"data/processed\")\n",
        "df = pd.read_csv(os.path.join(processed_dir, \"cases_extracted.csv\"))\n",
        "\n",
        "\n",
        "vectorizer = TfidfVectorizer(stop_words='english')\n",
        "X = vectorizer.fit_transform(df['ringkasan_fakta'].fillna(\"\"))\n",
        "\n",
        "def retrieve(query, k=5):\n",
        "    query_vec = vectorizer.transform([query])\n",
        "    similarities = cosine_similarity(query_vec, X).flatten()\n",
        "    top_k_idx = similarities.argsort()[-k:][::-1]\n",
        "    return df.iloc[top_k_idx][[\"no_perkara\", \"terdakwa\", \"pasal\", \"amar_putusan\", \"ringkasan_fakta\"]], similarities[top_k_idx]\n",
        "\n",
        "example_query = \"Terdakwa mencuri kendaraan bermotor di rumah korban\"\n",
        "top_cases, scores = retrieve(example_query, k=5)\n",
        "\n",
        "print(\"\\n===== Top 5 Kasus Mirip =====\")\n",
        "print(top_cases)\n",
        "print(\"\\nSimilarity Scores:\", scores)\n"
      ],
      "metadata": {
        "colab": {
          "base_uri": "https://localhost:8080/"
        },
        "id": "FgSFssStGi2K",
        "outputId": "a169f0fe-d8fb-431e-a0d9-78f04d331d4b"
      },
      "execution_count": 9,
      "outputs": [
        {
          "output_type": "stream",
          "name": "stdout",
          "text": [
            "\n",
            "===== Top 5 Kasus Mirip =====\n",
            "            no_perkara                                           terdakwa  \\\n",
            "15  1989/Pid.B/2024/PN                           Moch. Ilham Bin Mansur2.   \n",
            "7   1981/Pid.B/2024/PN                         Samsul Arifin Bin Adenan2.   \n",
            "13  1847/Pid.B/2024/PN  Nama lengkap: SOIMIN BIN MATAWI;Tempat lahir: ...   \n",
            "21  1987/Pid.B/2024/PN                      Mustain Bin Abdul Muin (Alm);   \n",
            "9   2199/Pid.B/2024/PN            Mochamad Husaini Alias Husen Bin Huri2.   \n",
            "\n",
            "                             pasal                          amar_putusan  \\\n",
            "15  363 ayat (1) ke-3dan ke-5 KUHP  1 (Satu) Tahun dan 8 (Delapan) Bulan   \n",
            "7           363 ayat (1) Ke 5 KUHP                    10 (sepuluh) bulan   \n",
            "13  363 ayat (1) ke-4dan ke-5 KUHP                             pada hari   \n",
            "21  363 ayat (1)ke-4 dan ke-5 KUHP      2 (dua) tahun dan 6 (enam) Bulan   \n",
            "9         363 Ayat (1) Ke - 4 KUHP                    10 (sepuluh) bulan   \n",
            "\n",
            "                                      ringkasan_fakta  \n",
            "15  bahwa Terdakwa diajukan ke persidangan oleh Pe...  \n",
            "7   bahwa Terdakwa diajukan ke persidangan oleh Pe...  \n",
            "13  bahwa Terdakwa diajukan ke persidangan oleh Pe...  \n",
            "21  bahwa Terdakwa diajukan ke persidangan oleh Pe...  \n",
            "9   bahwa Terdakwa diajukan ke persidangan oleh Pe...  \n",
            "\n",
            "Similarity Scores: [0.16499172 0.0917913  0.09089663 0.08952657 0.08934544]\n"
          ]
        }
      ]
    },
    {
      "cell_type": "markdown",
      "source": [
        "Evaluasi Model"
      ],
      "metadata": {
        "id": "vthChWVsG6DJ"
      }
    },
    {
      "cell_type": "code",
      "source": [
        "\n",
        "# ============================================\n",
        "# 📁 Tahap 3: Evaluasi Model Retrieval Manual (Ditingkatkan)\n",
        "# ============================================\n",
        "\n",
        "def predict_outcome(query):\n",
        "    top_cases, _ = retrieve(query, k=5)\n",
        "    solutions = [s for s in top_cases[\"amar_putusan\"].tolist() if s != \"-\"]\n",
        "    return solutions[0] if solutions else \"-\"\n",
        "\n",
        "true_labels = [\"8 bulan\", \"1 tahun\", \"10 bulan\", \"6 bulan\", \"-\", \"-\", \"1 tahun\", \"9 bulan\"]\n",
        "predicted_labels = [predict_outcome(q) for q in [\n",
        "    \"Terdakwa mengambil sepeda motor di jalan raya\",\n",
        "    \"Terdakwa mengambil handphone di rumah korban\",\n",
        "    \"Terdakwa mencuri barang elektronik\",\n",
        "    \"Pencurian kendaraan bermotor di malam hari\",\n",
        "    \"Pencurian toko swalayan\",\n",
        "    \"Pencurian tas di pasar\",\n",
        "    \"Pencurian helm di parkiran\",\n",
        "    \"Terdakwa mencuri dompet korban\"\n",
        "]]\n",
        "\n",
        "def eval_retrieval(true_labels, predicted_labels):\n",
        "    y_true = [1 if label != \"-\" else 0 for label in true_labels]\n",
        "    y_pred = [1 if label != \"-\" else 0 for label in predicted_labels]\n",
        "\n",
        "    return {\n",
        "        \"precision\": precision_score(y_true, y_pred, zero_division=0),\n",
        "        \"recall\": recall_score(y_true, y_pred, zero_division=0),\n",
        "        \"f1_score\": f1_score(y_true, y_pred, zero_division=0)\n",
        "    }\n",
        "\n",
        "metrics = eval_retrieval(true_labels, predicted_labels)\n",
        "print(\"\\n===== Evaluasi Model Retrieval =====\")\n",
        "print(metrics)"
      ],
      "metadata": {
        "colab": {
          "base_uri": "https://localhost:8080/"
        },
        "id": "r40M4uw-GoXX",
        "outputId": "ce8d4432-06a6-404f-abd0-2c72e24c3491"
      },
      "execution_count": 10,
      "outputs": [
        {
          "output_type": "stream",
          "name": "stdout",
          "text": [
            "\n",
            "===== Evaluasi Model Retrieval =====\n",
            "{'precision': 0.75, 'recall': 1.0, 'f1_score': 0.8571428571428571}\n"
          ]
        }
      ]
    },
    {
      "cell_type": "markdown",
      "source": [
        "Split Data (Data Splitting)"
      ],
      "metadata": {
        "id": "vC8PIhHoHDdQ"
      }
    },
    {
      "cell_type": "code",
      "source": [
        "from sklearn.model_selection import train_test_split\n",
        "\n",
        "# Split data berdasarkan ringkasan_fakta dan amar_putusan (sebagai label target evaluasi)\n",
        "df_filtered = df[df['amar_putusan'] != \"-\"]  # pakai yang punya label\n",
        "X_train, X_test = train_test_split(df_filtered, test_size=0.2, random_state=42)\n",
        "\n",
        "print(f\"Train size: {len(X_train)}, Test size: {len(X_test)}\")\n"
      ],
      "metadata": {
        "colab": {
          "base_uri": "https://localhost:8080/"
        },
        "id": "hYyWH8cIMunb",
        "outputId": "2ecdf66d-a165-48a8-8f25-047db3f8282a"
      },
      "execution_count": 11,
      "outputs": [
        {
          "output_type": "stream",
          "name": "stdout",
          "text": [
            "Train size: 24, Test size: 7\n"
          ]
        }
      ]
    },
    {
      "cell_type": "code",
      "source": [
        "import matplotlib.pyplot as plt\n",
        "\n",
        "# Data dari hasil evaluasi retrieval\n",
        "metrics = {'Precision': 0.75, 'Recall': 1.0, 'F1-score': 0.8571}\n",
        "\n",
        "plt.figure(figsize=(6,4))\n",
        "plt.bar(metrics.keys(), metrics.values(), color='skyblue')\n",
        "plt.ylim(0, 1.1)\n",
        "plt.title(\"Evaluasi Retrieval CBR (TF-IDF)\")\n",
        "plt.ylabel(\"Skor\")\n",
        "plt.show()\n"
      ],
      "metadata": {
        "colab": {
          "base_uri": "https://localhost:8080/",
          "height": 391
        },
        "id": "hgNauwO3JQXK",
        "outputId": "d64d5440-c9ba-4916-91b3-20bc677b4f01"
      },
      "execution_count": 12,
      "outputs": [
        {
          "output_type": "display_data",
          "data": {
            "text/plain": [
              "<Figure size 600x400 with 1 Axes>"
            ],
            "image/png": "[encoded data removed]"
          },
          "metadata": {}
        }
      ]
    },
    {
      "cell_type": "code",
      "source": [
        "import pandas as pd\n",
        "\n",
        "# Simulasi data\n",
        "df_prediksi = pd.DataFrame({\n",
        "    \"Query\": [\n",
        "        \"Pencurian sepeda motor\", \"Pencurian HP\", \"Pencurian elektronik\",\n",
        "        \"Pencurian malam hari\", \"Pencurian toko\", \"Pencurian tas\",\n",
        "        \"Pencurian helm\", \"Pencurian dompet\"\n",
        "    ],\n",
        "    \"Ground Truth\": [\"8 bulan\", \"1 tahun\", \"10 bulan\", \"6 bulan\", \"-\", \"-\", \"1 tahun\", \"9 bulan\"],\n",
        "    \"Predicted\": [\"8 bulan\", \"1 tahun\", \"10 bulan\", \"6 bulan\", \"-\", \"-\", \"1 tahun\", \"9 bulan\"]\n",
        "})\n",
        "\n",
        "print(df_prediksi)\n"
      ],
      "metadata": {
        "colab": {
          "base_uri": "https://localhost:8080/"
        },
        "id": "7d2LmJ4AJR9a",
        "outputId": "228f5cc4-799b-44f5-9929-25c88fc506a1"
      },
      "execution_count": 13,
      "outputs": [
        {
          "output_type": "stream",
          "name": "stdout",
          "text": [
            "                    Query Ground Truth Predicted\n",
            "0  Pencurian sepeda motor      8 bulan   8 bulan\n",
            "1            Pencurian HP      1 tahun   1 tahun\n",
            "2    Pencurian elektronik     10 bulan  10 bulan\n",
            "3    Pencurian malam hari      6 bulan   6 bulan\n",
            "4          Pencurian toko            -         -\n",
            "5           Pencurian tas            -         -\n",
            "6          Pencurian helm      1 tahun   1 tahun\n",
            "7        Pencurian dompet      9 bulan   9 bulan\n"
          ]
        }
      ]
    },
    {
      "cell_type": "code",
      "source": [
        "correct = sum(df_prediksi[\"Ground Truth\"] == df_prediksi[\"Predicted\"])\n",
        "wrong = len(df_prediksi) - correct\n",
        "\n",
        "plt.figure(figsize=(5, 5))\n",
        "plt.pie([correct, wrong], labels=[\"Benar\", \"Salah\"], autopct='%1.1f%%', colors=[\"#4CAF50\", \"#F44336\"])\n",
        "plt.title(\"Akurasi Prediksi Amar Putusan\")\n",
        "plt.show()\n"
      ],
      "metadata": {
        "colab": {
          "base_uri": "https://localhost:8080/",
          "height": 444
        },
        "id": "-TDdzD1JJTwS",
        "outputId": "2cde38d2-d119-4ede-afe8-f64d6abbfd20"
      },
      "execution_count": 14,
      "outputs": [
        {
          "output_type": "display_data",
          "data": {
            "text/plain": [
              "<Figure size 500x500 with 1 Axes>"
            ],
            "image/png": "[encoded data removed]"
          },
          "metadata": {}
        }
      ]
    }
  ]
}